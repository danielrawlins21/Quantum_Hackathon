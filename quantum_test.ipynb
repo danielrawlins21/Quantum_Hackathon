{
 "cells": [
  {
   "cell_type": "code",
   "execution_count": 1,
   "id": "d4f90f58",
   "metadata": {},
   "outputs": [],
   "source": [
    "import dotenv\n",
    "import bluequbit\n",
    "from qiskit import QuantumCircuit"
   ]
  },
  {
   "cell_type": "code",
   "execution_count": 2,
   "id": "2aa0b682",
   "metadata": {},
   "outputs": [],
   "source": [
    "qc_qiskit = QuantumCircuit(4)\n",
    "qc_qiskit.h(0)\n",
    "qc_qiskit.h(1)\n",
    "qc_qiskit.h(2)\n",
    "qc_qiskit.h(3)\n",
    "qc_qiskit.measure_all()"
   ]
  },
  {
   "cell_type": "code",
   "execution_count": 3,
   "id": "732b0514",
   "metadata": {},
   "outputs": [],
   "source": [
    "TOKEN = dotenv.dotenv_values(\".env\")[\"TOKEN\"]"
   ]
  },
  {
   "cell_type": "code",
   "execution_count": 4,
   "id": "42f8ba87",
   "metadata": {},
   "outputs": [
    {
     "name": "stderr",
     "output_type": "stream",
     "text": [
      "\u001b[36m[BQ-PYTHON-SDK]\u001b[0m[\u001b[33mWARNING\u001b[0m] - Beta version 0.12.0b1 of BlueQubit Python SDK is being used.\u001b[0m\n"
     ]
    },
    {
     "name": "stdout",
     "output_type": "stream",
     "text": [
      "\u001b[36m[BQ-PYTHON-SDK]\u001b[0m[\u001b[32mINFO\u001b[0m] - Submitted: Job ID: BmPvxputxR0lxtLC, device: cpu, run status: COMPLETED, created on: 2025-04-11 23:41:58 UTC, cost: $0.00, run time: 17 ms, queue time: 101 ms, num qubits: 4\u001b[0m\n",
      "{'0000': 5, '0001': 5, '0010': 10, '0011': 7, '0100': 7, '0101': 2, '0110': 4, '0111': 6, '1000': 9, '1001': 6, '1010': 8, '1011': 1, '1100': 3, '1101': 4, '1110': 16, '1111': 7}\n"
     ]
    }
   ],
   "source": [
    "bq = bluequbit.init(TOKEN) # <-- BlueQubit Magic\n",
    "result = bq.run(qc_qiskit, device='cpu', shots=100) # <-- Quantum Magic\n",
    "print(result.get_counts())"
   ]
  },
  {
   "cell_type": "code",
   "execution_count": null,
   "id": "37ba372c",
   "metadata": {},
   "outputs": [],
   "source": []
  }
 ],
 "metadata": {
  "kernelspec": {
   "display_name": "q_env",
   "language": "python",
   "name": "python3"
  },
  "language_info": {
   "codemirror_mode": {
    "name": "ipython",
    "version": 3
   },
   "file_extension": ".py",
   "mimetype": "text/x-python",
   "name": "python",
   "nbconvert_exporter": "python",
   "pygments_lexer": "ipython3",
   "version": "3.12.9"
  }
 },
 "nbformat": 4,
 "nbformat_minor": 5
}
